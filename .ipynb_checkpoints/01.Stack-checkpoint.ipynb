{
 "cells": [
  {
   "cell_type": "markdown",
   "metadata": {},
   "source": [
    "# โครงสร้างข้อมูลแบบสแตก (Stack)"
   ]
  },
  {
   "cell_type": "markdown",
   "metadata": {},
   "source": [
    "## ความหมายของสแตก\n",
    "จากโครงสร้างของอาร์เรย์ (Array) เราสามารถเข้าถึง (Access) ข้อมูลได้โดยตรง โดยระบุตัวดัชนีกำกับ (Subscript) หรือ ตัวบอกลำดับ \n",
    "\n",
    "แต่อย่างไรก็ตามโครงสร้างแบบอาร์เรย์ ก็มีข้อจำกัดที่ไม่สามารถเพิ่ม ลบข้อมูลโดยวิธีการง่ายๆ ได้ \n",
    "\n",
    "ในหน่วยนี้จะกล่าวถึงโครงสร้างข้อมูลซึ่งมีลักษณะพิเศษเน้นวิธีในการดึงข้อมูลคือ (Stack) และ คิว (Queue) \n",
    "\n",
    "ซึ่งโครงสร้างข้อมูลทั้ง 2 นี้ จะแก้ปัญหาในกรณีเพิ่ม, ลบข้อมูลข้างต้นได้ โครงสร้าง ข้อมูลทั้งสองนี้จะนำมาใช้มากในระบบปฏิบัติการ และนำไปใช้ในการทำโปรแกรมย่อย"
   ]
  },
  {
   "cell_type": "markdown",
   "metadata": {},
   "source": [
    "**สแตก (Stack)** หมายถึง โครงสร้างข้อมูลที่ออกแบบมาให้มีลักษณะทั้งแบบเป็นเชิงเส้น (Linear Structure) และแบบไม่เป็นเชิงเส้น (Non Linear Structure) เพราะเขียนโปรแกรมได้ทั้งการใช้อาร์เรย์ (Array) และ ลิงค์ลิสต์ (Linklist) \n",
    "\n",
    "การนำข้อมูลเข้าและออกจากสแตกจะมีลำดับการทำงานแบบเข้าหลังออกก่อน (LIFO : Last In First Out) เพราะการนำเข้าและออก จะใช้ปลายด้านเดียวกันจึงทำให้ข้อมูลตัวที่นำเข้าไปเก็บก่อนถูกจัดเก็บอยู่ด้านในสุด และข้อมูลตัวที่ถูกจัดเก็บตัวสุดท้ายจะอยู่บนสุด การนำข้อมูลออกจึงต้องนำข้อมูลตัวบนสุดออกก่อน"
   ]
  },
  {
   "cell_type": "markdown",
   "metadata": {},
   "source": [
    "![title](imgs/stack_01.jpg)"
   ]
  },
  {
   "cell_type": "markdown",
   "metadata": {},
   "source": [
    "## การดำเนินการพื้นฐานของสแตก (Stack Operation)\n",
    "\n",
    "1. **push(item)** เพิ่มรายการใหม่ลงด้านบนสุดของ stack มันต้องการสินค้าและไม่มีอะไรตอบแทน\n",
    "\n",
    "1. **pop( )** นำรายการด้านบนออกจากสแตก ไม่จำเป็นต้องมีพารามิเตอร์และส่งคืนสินค้า สแต็คถูกแก้ไข\n",
    "\n",
    "1. **peek( )** คืนค่ารายการด้านบนจากกอง แต่ไม่ได้ลบออก ไม่จำเป็นต้องมีพารามิเตอร์ สแตกไม่ได้รับการแก้ไข\n",
    "\n",
    "1. **isEmpty( )** เพื่อทดสอบว่า stack ว่างเปล่าหรือไม่ ไม่จำเป็นต้องมีพารามิเตอร์และส่งกลับค่าบูลีน\n",
    "\n",
    "1. **size()** ส่งกลับจำนวนของไอเทมบน stack ไม่ต้องการพารามิเตอร์ใด ๆ และส่งคืนค่าเป็นจำนวนเต็ม"
   ]
  },
  {
   "cell_type": "markdown",
   "metadata": {},
   "source": [
    "|Stack Operation\t|Stack Contents\t|Return Value|\n",
    "|-------------------|---------------|------------|\n",
    "|s.isEmpty()\t    |[ ]\t        |True        |\n",
    "|s.push(4)\t        |[4]            |            |\n",
    "|s.push('dog')\t    |[4,'dog']      |            |\n",
    "|s.peek()\t        |[4,'dog']\t    |'dog'       |\n",
    "|s.push(True)\t    |[4,'dog',True] |            |\n",
    "|s.size()\t        |[4,'dog',True]\t|3           |\n",
    "|s.isEmpty()\t    |[4,'dog',True]\t|False       |\n",
    "|s.push(8.4)\t    |[4,'dog',True,8.4]|         |\n",
    "|s.pop()\t        |[4,'dog',True]\t|8.4         |\n",
    "|s.pop()\t        |[4,'dog']\t    |True        |\n",
    "|s.size()\t        |[4,'dog']\t    |2           |"
   ]
  },
  {
   "cell_type": "markdown",
   "metadata": {},
   "source": [
    "<hr />"
   ]
  },
  {
   "cell_type": "markdown",
   "metadata": {},
   "source": [
    "## การสร้าง Stack โดยใช้ภาษา Python"
   ]
  },
  {
   "cell_type": "code",
   "execution_count": 1,
   "metadata": {},
   "outputs": [],
   "source": [
    "class Stack():\n",
    "    def __init__(self):\n",
    "        self.lt = []\n",
    "        \n",
    "    def push(self, value):\n",
    "        self.lt.append(value)\n",
    "    \n",
    "    def pop(self):\n",
    "        return self.lt.pop()\n",
    "    \n",
    "    def peek(self):\n",
    "        return self.lt[-1]\n",
    "    \n",
    "    def isEmpty(self):\n",
    "        return len(self.lt) == 0\n",
    "    \n",
    "    def size(self):\n",
    "        return len(self.lt)"
   ]
  },
  {
   "cell_type": "code",
   "execution_count": 2,
   "metadata": {},
   "outputs": [],
   "source": [
    "stack = Stack()"
   ]
  },
  {
   "cell_type": "code",
   "execution_count": 3,
   "metadata": {},
   "outputs": [
    {
     "data": {
      "text/plain": [
       "True"
      ]
     },
     "execution_count": 3,
     "metadata": {},
     "output_type": "execute_result"
    }
   ],
   "source": [
    "stack.isEmpty()"
   ]
  },
  {
   "cell_type": "code",
   "execution_count": 4,
   "metadata": {},
   "outputs": [],
   "source": [
    "stack.push(4)\n",
    "stack.push(\"dog\")"
   ]
  },
  {
   "cell_type": "code",
   "execution_count": 5,
   "metadata": {},
   "outputs": [
    {
     "data": {
      "text/plain": [
       "'dog'"
      ]
     },
     "execution_count": 5,
     "metadata": {},
     "output_type": "execute_result"
    }
   ],
   "source": [
    "stack.peek()"
   ]
  },
  {
   "cell_type": "code",
   "execution_count": 6,
   "metadata": {},
   "outputs": [
    {
     "name": "stdout",
     "output_type": "stream",
     "text": [
      "[4, 'dog']\n"
     ]
    }
   ],
   "source": [
    "print(stack.lt)"
   ]
  },
  {
   "cell_type": "code",
   "execution_count": 7,
   "metadata": {},
   "outputs": [
    {
     "data": {
      "text/plain": [
       "'dog'"
      ]
     },
     "execution_count": 7,
     "metadata": {},
     "output_type": "execute_result"
    }
   ],
   "source": [
    "stack.peek()"
   ]
  },
  {
   "cell_type": "markdown",
   "metadata": {},
   "source": [
    "<hr />"
   ]
  },
  {
   "cell_type": "markdown",
   "metadata": {},
   "source": [
    "## การประยุกต์ใช้งานสแตก"
   ]
  },
  {
   "cell_type": "markdown",
   "metadata": {},
   "source": [
    "### 1.การแปลงนิพจน์ Infix ให้เป็น Postfix\n",
    "\n",
    "อัลกอริทึมที่ใช้สำหรับการแปลงนิพจน์ Infix ให้เป็น Postfix นั้นจะใช้ Stack เป็นกลไกลหลักในการทำงาน\n",
    "\n",
    "โดยหน้าที่หลักของ Stack คือการสลับลำดับของตัวดำเนินการภายในนิพจน์\n",
    "\n",
    "นอกจากนี้ยังทำหน้าที่เป็นโครงสร้างที่จัดเก็บตัวดำเนินการเอาไว้ใน Stack จนกว่าจะมีตัวถูกดำเนินการทั้งสองตัวปรากฏขึ้น\n",
    "\n",
    "โดยขั้นตอนวิธีเป็นดังนี้\n",
    "\n",
    "1. พิมพ์ตัวถูกดำเนินการเมื่อมาถึง <br /><br />\n",
    "\n",
    "1. หากสแต็กว่างเปล่า หรือ มีวงเล็บเปิดอยู่ด้านบนให้ push โอเปอเรเตอร์ที่เข้ามาลงในสแต็ก <br /><br />\n",
    "\n",
    "1. หากสัญลักษณ์ขาเข้าเป็นเครื่องหมายวงเล็บเปิดให้ push ลงบนสแต็ก <br /><br />\n",
    "\n",
    "1. หากสัญลักษณ์ที่เข้ามาเป็นวงเล็บปิดให้ pop ข้อมูลออกจากสแต็ก และพิมพ์โอเปอเรเตอร์จนกว่าจะเห็นวงเล็บเปิด ละทิ้งคู่ของวงเล็บ <br /><br />\n",
    "\n",
    "1. หากสัญลักษณ์ที่เข้ามามีความสำคัญมากกว่าด้านบนของสแต็คให้กดมันลงบนสแต็ก <br /><br />\n",
    "\n",
    "1. ถ้าสัญลักษณ์ที่เข้ามามีความสำคัญเท่ากันกับด้านบนของสแต็กให้พิจารณาความสัมพันธ์แบบซ้ายไปขวา ซึ่งหากความสัมพันธ์จากซ้ายไปขวาให้ pop และพิมพ์ด้านบนของสแต็กแล้ว push เครื่องหมายที่เข้ามา <br /><br />\n",
    "\n",
    "1. หากสัญลักษณ์ที่เข้ามามีความสำคัญต่ำกว่าสัญลักษณ์ที่ด้านบนของสแต็กให้วางสแต็กและพิมพ์ตัวดำเนินการด้านบน จากนั้นทดสอบผู้ดำเนินการที่เข้ามากับด้านบนสุดของสแต็กใหม่ <br /><br />\n",
    "\n",
    "1. ในตอนท้ายของนิพจน์ให้ pop และพิมพ์ตัวดำเนินการทั้งหมดบนสแต็ก (ไม่ควรมีวงเล็บอยู่) <br /><br />\n",
    "\n",
    "**หมายเหตุ** : กรณีเครื่องหมายวงเล็บ () ซึ่งเป็นตัวดำเนินการที่มีความสำคัญสูงที่สุด ไม่ต้องทำการ พิมพ์ออกทางหน้าจอ"
   ]
  },
  {
   "cell_type": "markdown",
   "metadata": {},
   "source": [
    "### ตัวอย่าง\n",
    "\n",
    "ทำการแปลงนิพจน์ A \\* B ^ C + D ให้เป็น A B C ^ \\* D +"
   ]
  },
  {
   "cell_type": "markdown",
   "metadata": {},
   "source": [
    "<img src=\"./imgs/stack_02.jpg\" width=\"400\">"
   ]
  },
  {
   "cell_type": "markdown",
   "metadata": {},
   "source": [
    "ทำการแปลงนิพจน์ A \\* (B + C \\* D) + E ให้เป็น A B C D \\* + \\* E +"
   ]
  },
  {
   "cell_type": "markdown",
   "metadata": {},
   "source": [
    "<img src=\"./imgs/stack_03.jpg\" width=\"400\">"
   ]
  },
  {
   "cell_type": "markdown",
   "metadata": {},
   "source": [
    "### โปรแกรมแปลงนิพจน์ Infix ให้เป็น Postfix"
   ]
  },
  {
   "cell_type": "code",
   "execution_count": 8,
   "metadata": {},
   "outputs": [],
   "source": [
    "def infixToPostfix(expression):\n",
    "    prec = {}\n",
    "    prec[\"(\"] = 1\n",
    "    prec[\"^\"] = 3\n",
    "    prec[\"*\"] = 3\n",
    "    prec[\"/\"] = 3\n",
    "    prec[\"%\"] = 3\n",
    "    prec[\"+\"] = 2\n",
    "    prec[\"-\"] = 2\n",
    "    \n",
    "    operator = \"(+-*/%)^\"\n",
    "    \n",
    "    stack = Stack()\n",
    "    prefix = []\n",
    "    token = expression.split()\n",
    "    \n",
    "    for value in token:\n",
    "        if value not in operator:\n",
    "            prefix.append(value)\n",
    "        elif value in operator:\n",
    "            if value == \"(\":\n",
    "                stack.push(value)\n",
    "            elif value == \")\":\n",
    "                op = stack.pop()\n",
    "                while op != \"(\":\n",
    "                    prefix.append(op)\n",
    "                    op = stack.pop()\n",
    "            else:\n",
    "                while not stack.isEmpty() and prec[stack.peek()] > prec[value]:\n",
    "                    prefix.append(stack.pop())\n",
    "                    \n",
    "                stack.push(value)\n",
    "                \n",
    "    while not stack.isEmpty():\n",
    "        prefix.append(stack.pop())\n",
    "    \n",
    "    return \" \".join(prefix)"
   ]
  },
  {
   "cell_type": "code",
   "execution_count": 12,
   "metadata": {},
   "outputs": [
    {
     "name": "stdout",
     "output_type": "stream",
     "text": [
      "A B + C D + *\n",
      "A B * C +\n",
      "A B + C *\n",
      "A B C ^ * D +\n",
      "A B C * D + * E +\n",
      "A B + C * D E - F G + * -\n"
     ]
    }
   ],
   "source": [
    "# result \n",
    "# 1. 'A B + C D + *'\n",
    "# 2. 'A B * C +'\n",
    "# 3. 'A B + C *'\n",
    "# 4. 'A B C ^ * D +'\n",
    "# 5. 'A B C D * + * E +'\n",
    "\n",
    "print(infixToPostfix(\"( A + B ) * ( C + D )\"))\n",
    "print(infixToPostfix(\"A * B + C\"))\n",
    "print(infixToPostfix(\"( A + B ) * C\"))\n",
    "\n",
    "print(infixToPostfix(\"A * B ^ C + D\"))\n",
    "print(infixToPostfix(\"A * ( B * C + D ) + E\"))\n",
    "\n",
    "print(infixToPostfix(\"( A + B ) * C - ( D - E ) * ( F + G )\"))"
   ]
  },
  {
   "cell_type": "markdown",
   "metadata": {},
   "source": [
    "<hr />"
   ]
  },
  {
   "cell_type": "markdown",
   "metadata": {},
   "source": [
    "### 2.การคำนวนนิพจน์ Postfix\n",
    "\n",
    "เราสามารถใช้ Stack เพื่อเป็นกลไกลสำคัญสำหรับการคำนวนนิพจน์ Postfix ได้โดยใช้ขั้นตอนวิธีดังต่อไปนี้\n",
    "\n",
    "1. ทำการอ่านนิพจน์ Postfix\n",
    "1. ถ้าพบตัวถูกดำเนินการ (Operand) ให้ทำการเก็บค่าลงใน Stack\n",
    "1. ถ้าพบตัวดำเนินการ (Operation) \n",
    "    1. ให้ทำการ pop ค่าออกจาก Stack 2 ครั้ง โดยตัวแรกเก็บไว้ในตัวแปร Opr2 และตัวต่อมาให้เก็บไว้ในตัวแปร Opr1\n",
    "    1. ทำการคำนวนโดยใช้ตัวดำเนินการ ดังนี้ opr1 operater opr2\n",
    "    1. เก็บค่าผลลัพธ์ลงใน Stack\n",
    "1. ดำเนินการซ้ำขั้นตอนที่ 1 - 2 จนอ่านนิพจน์ครบ\n",
    "1. ทำการ pop ผลลัพธ์สุดท้ายออกจาก Stack และพิมพ์ออกทางหน้าจอ"
   ]
  },
  {
   "cell_type": "markdown",
   "metadata": {},
   "source": [
    "<img src=\"./imgs/stack_04.jpg\">"
   ]
  },
  {
   "cell_type": "code",
   "execution_count": 10,
   "metadata": {},
   "outputs": [],
   "source": [
    "def doMatch(op, opr1, opr2):\n",
    "    if op == \"+\":\n",
    "        return opr1 + opr2\n",
    "    elif op == \"-\":\n",
    "        return opr1 - opr2\n",
    "    elif op == \"*\":\n",
    "        return opr1 * opr2\n",
    "    elif op == \"/\":\n",
    "        return opr1 / opr2\n",
    "    elif op == \"%\":\n",
    "        return opr1 % opr2\n",
    "    elif op == \"^\":\n",
    "        return opr1 ** opr2\n",
    "\n",
    "def postfixEval(postfix):\n",
    "    stack = Stack()\n",
    "    tokens = postfix.split()\n",
    "    operators = \"+-*/%^\"\n",
    "    for token in tokens:\n",
    "        if token in operators:\n",
    "            opr2 = stack.pop()\n",
    "            opr1 = stack.pop()\n",
    "            stack.push(doMatch(token, opr1, opr2))\n",
    "        else:\n",
    "            stack.push(int(token))\n",
    "            \n",
    "    return stack.pop()"
   ]
  },
  {
   "cell_type": "code",
   "execution_count": 11,
   "metadata": {},
   "outputs": [
    {
     "name": "stdout",
     "output_type": "stream",
     "text": [
      "57\n",
      "257\n"
     ]
    }
   ],
   "source": [
    "print(postfixEval(\"10 5 * 7 +\"))\n",
    "print(postfixEval(\"10 5 2 ^ * 7 +\"))"
   ]
  },
  {
   "cell_type": "code",
   "execution_count": null,
   "metadata": {},
   "outputs": [],
   "source": []
  }
 ],
 "metadata": {
  "kernelspec": {
   "display_name": "Python 3",
   "language": "python",
   "name": "python3"
  },
  "language_info": {
   "codemirror_mode": {
    "name": "ipython",
    "version": 3
   },
   "file_extension": ".py",
   "mimetype": "text/x-python",
   "name": "python",
   "nbconvert_exporter": "python",
   "pygments_lexer": "ipython3",
   "version": "3.7.3"
  }
 },
 "nbformat": 4,
 "nbformat_minor": 2
}
