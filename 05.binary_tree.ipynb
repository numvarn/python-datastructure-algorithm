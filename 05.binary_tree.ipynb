{
 "cells": [
  {
   "cell_type": "markdown",
   "metadata": {},
   "source": [
    "# โครงสร้างข้อมูลต้นไม้แบบ Binary Tree"
   ]
  },
  {
   "cell_type": "code",
   "execution_count": 13,
   "metadata": {},
   "outputs": [],
   "source": [
    "class Node:\n",
    "    \"\"\"\n",
    "    Tree node: left and right child + data which can be any object\n",
    "    \"\"\"\n",
    "    def __init__(self, data):\n",
    "        \"\"\"\n",
    "        Node constructor\n",
    "\n",
    "        @param data node data object\n",
    "        \"\"\"\n",
    "        self.left = None\n",
    "        self.right = None\n",
    "        self.data = data\n",
    "        \n",
    "    def insert(self, data):\n",
    "        \"\"\"\n",
    "        Insert new node with data\n",
    "\n",
    "        @param data node data object to insert\n",
    "        \"\"\"\n",
    "        if self.data:\n",
    "            if data < self.data:\n",
    "                if self.left is None:\n",
    "                    self.left = Node(data)\n",
    "                else:\n",
    "                    self.left.insert(data)\n",
    "            elif data > self.data:\n",
    "                if self.right is None:\n",
    "                    self.right = Node(data)\n",
    "                else:\n",
    "                    self.right.insert(data)\n",
    "        else:\n",
    "            self.data = data\n",
    "            \n",
    "    def lookup(self, data, parent=None):\n",
    "        \"\"\"\n",
    "        Lookup node containing data\n",
    "\n",
    "        @param data node data object to look up\n",
    "        @param parent node's parent\n",
    "        @returns node and node's parent if found or None, None\n",
    "        \"\"\"\n",
    "        if data < self.data:\n",
    "            if self.left is None:\n",
    "                return None, None\n",
    "            return self.left.lookup(data, self)\n",
    "        elif data > self.data:\n",
    "            if self.right is None:\n",
    "                return None, None\n",
    "            return self.right.lookup(data, self)\n",
    "        else:\n",
    "            return self, parent\n",
    "        \n",
    "    def print_tree(self):\n",
    "        \"\"\"\n",
    "        Print tree content inorder\n",
    "        \"\"\"\n",
    "        if self.left:\n",
    "            self.left.print_tree()\n",
    "        print(self.data, end=\", \")\n",
    "        if self.right:\n",
    "            self.right.print_tree()"
   ]
  },
  {
   "cell_type": "markdown",
   "metadata": {},
   "source": [
    "## เมธอดสำหรับท่อง Tree"
   ]
  },
  {
   "cell_type": "code",
   "execution_count": 14,
   "metadata": {},
   "outputs": [],
   "source": [
    "def print_tree_indented(tree, level=0):\n",
    "    if tree == None: return\n",
    "    print_tree_indented(tree.right, level+1)\n",
    "    print('  ' * level + str(tree.data))\n",
    "    print_tree_indented(tree.left, level+1)"
   ]
  },
  {
   "cell_type": "code",
   "execution_count": 15,
   "metadata": {},
   "outputs": [],
   "source": [
    "def print_tree_postorder(tree):\n",
    "    if tree == None: return\n",
    "    print_tree_postorder(tree.left)\n",
    "    print_tree_postorder(tree.right)\n",
    "    print(tree.data, end=\", \")"
   ]
  },
  {
   "cell_type": "code",
   "execution_count": 16,
   "metadata": {},
   "outputs": [],
   "source": [
    "def print_tree_inorder(tree):\n",
    "    if tree == None: return\n",
    "    print_tree_inorder(tree.left)\n",
    "    print(tree.data, end=\", \")\n",
    "    print_tree_inorder(tree.right)"
   ]
  },
  {
   "cell_type": "code",
   "execution_count": 17,
   "metadata": {},
   "outputs": [],
   "source": [
    "def print_tree_preorder(tree):\n",
    "    if tree == None: return \n",
    "    print(tree.data, end=\", \")\n",
    "    print_tree_preorder(tree.left)\n",
    "    print_tree_preorder(tree.right)"
   ]
  },
  {
   "cell_type": "markdown",
   "metadata": {},
   "source": [
    "## ตัวอย่างการใช้งาน Binary Tree"
   ]
  },
  {
   "cell_type": "code",
   "execution_count": 18,
   "metadata": {},
   "outputs": [],
   "source": [
    "root = Node(8)"
   ]
  },
  {
   "cell_type": "code",
   "execution_count": 19,
   "metadata": {},
   "outputs": [],
   "source": [
    "root.insert(3)\n",
    "root.insert(10)\n",
    "root.insert(1)\n",
    "root.insert(6)\n",
    "root.insert(4)\n",
    "root.insert(7)\n",
    "root.insert(14)\n",
    "root.insert(13)\n",
    "root.insert(2)\n",
    "root.insert(5)"
   ]
  },
  {
   "cell_type": "code",
   "execution_count": 20,
   "metadata": {},
   "outputs": [
    {
     "name": "stdout",
     "output_type": "stream",
     "text": [
      "1, 2, 3, 4, 5, 6, 7, 8, 10, 13, 14, "
     ]
    }
   ],
   "source": [
    "root.print_tree()"
   ]
  },
  {
   "cell_type": "code",
   "execution_count": 21,
   "metadata": {
    "scrolled": true
   },
   "outputs": [
    {
     "name": "stdout",
     "output_type": "stream",
     "text": [
      "1, 2, 3, 4, 5, 6, 7, 8, 10, 13, 14, "
     ]
    }
   ],
   "source": [
    "print_tree_inorder(root)"
   ]
  },
  {
   "cell_type": "code",
   "execution_count": 22,
   "metadata": {},
   "outputs": [
    {
     "name": "stdout",
     "output_type": "stream",
     "text": [
      "2, 1, 5, 4, 7, 6, 3, 13, 14, 10, 8, "
     ]
    }
   ],
   "source": [
    "print_tree_postorder(root)"
   ]
  },
  {
   "cell_type": "code",
   "execution_count": 23,
   "metadata": {},
   "outputs": [
    {
     "name": "stdout",
     "output_type": "stream",
     "text": [
      "8, 3, 1, 2, 6, 4, 5, 7, 10, 14, 13, "
     ]
    }
   ],
   "source": [
    "print_tree_preorder(root)"
   ]
  },
  {
   "cell_type": "markdown",
   "metadata": {},
   "source": [
    "<hr />"
   ]
  },
  {
   "cell_type": "markdown",
   "metadata": {},
   "source": [
    "##  ตัวอย่าง"
   ]
  },
  {
   "cell_type": "code",
   "execution_count": 47,
   "metadata": {},
   "outputs": [],
   "source": [
    "import numpy as np\n",
    "\n",
    "lt = np.random.choice(100, 20, replace=False)"
   ]
  },
  {
   "cell_type": "code",
   "execution_count": 48,
   "metadata": {},
   "outputs": [
    {
     "data": {
      "text/plain": [
       "array([99, 37, 84, 13,  2, 35, 97, 64, 26, 82, 19, 20, 25,  0, 60, 83, 42,\n",
       "       56, 21, 36])"
      ]
     },
     "execution_count": 48,
     "metadata": {},
     "output_type": "execute_result"
    }
   ],
   "source": [
    "lt"
   ]
  },
  {
   "cell_type": "code",
   "execution_count": 49,
   "metadata": {},
   "outputs": [],
   "source": [
    "tree = Node(lt[0])"
   ]
  },
  {
   "cell_type": "code",
   "execution_count": 50,
   "metadata": {},
   "outputs": [],
   "source": [
    "for i in range(1, len(lt)):\n",
    "    tree.insert(lt[i])"
   ]
  },
  {
   "cell_type": "code",
   "execution_count": 51,
   "metadata": {},
   "outputs": [
    {
     "name": "stdout",
     "output_type": "stream",
     "text": [
      "0, 2, 13, 19, 20, 21, 25, 26, 35, 36, 37, 42, 56, 60, 64, 82, 83, 84, 97, 99, "
     ]
    }
   ],
   "source": [
    "print_tree_inorder(tree)"
   ]
  },
  {
   "cell_type": "code",
   "execution_count": 52,
   "metadata": {},
   "outputs": [
    {
     "name": "stdout",
     "output_type": "stream",
     "text": [
      "99\n",
      "      97\n",
      "    84\n",
      "          83\n",
      "        82\n",
      "      64\n",
      "        60\n",
      "            56\n",
      "          42\n",
      "  37\n",
      "        36\n",
      "      35\n",
      "        26\n",
      "              25\n",
      "                21\n",
      "            20\n",
      "          19\n",
      "    13\n",
      "      2\n",
      "        0\n"
     ]
    }
   ],
   "source": [
    "print_tree_indented(tree)"
   ]
  },
  {
   "cell_type": "code",
   "execution_count": null,
   "metadata": {},
   "outputs": [],
   "source": []
  }
 ],
 "metadata": {
  "kernelspec": {
   "display_name": "Python 3",
   "language": "python",
   "name": "python3"
  },
  "language_info": {
   "codemirror_mode": {
    "name": "ipython",
    "version": 3
   },
   "file_extension": ".py",
   "mimetype": "text/x-python",
   "name": "python",
   "nbconvert_exporter": "python",
   "pygments_lexer": "ipython3",
   "version": "3.6.5"
  }
 },
 "nbformat": 4,
 "nbformat_minor": 2
}
