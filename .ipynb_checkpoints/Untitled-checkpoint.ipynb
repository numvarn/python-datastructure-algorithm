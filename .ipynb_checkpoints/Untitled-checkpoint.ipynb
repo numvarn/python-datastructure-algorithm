{
 "cells": [
  {
   "cell_type": "code",
   "execution_count": 36,
   "metadata": {},
   "outputs": [],
   "source": [
    "lt = [14, 20, 5, 13, 16, 15, 60, 17, 7, 4, 3]"
   ]
  },
  {
   "cell_type": "code",
   "execution_count": 37,
   "metadata": {},
   "outputs": [],
   "source": [
    "for top in range(len(lt)-1, 1, -1):\n",
    "    max_index = 0\n",
    "    for i in range(0, top):\n",
    "        if lt[max_index] < lt[i]:\n",
    "            max_index = i\n",
    "            \n",
    "    lt[max_index], lt[top] = lt[top], lt[max_index]"
   ]
  },
  {
   "cell_type": "code",
   "execution_count": 38,
   "metadata": {},
   "outputs": [
    {
     "data": {
      "text/plain": [
       "[3, 7, 4, 5, 13, 14, 15, 16, 17, 20, 60]"
      ]
     },
     "execution_count": 38,
     "metadata": {},
     "output_type": "execute_result"
    }
   ],
   "source": [
    "lt"
   ]
  },
  {
   "cell_type": "code",
   "execution_count": 39,
   "metadata": {},
   "outputs": [],
   "source": [
    "lt = [14, 20, 5, 13, 16, 15, 60, 17, 7, 4, 3]"
   ]
  },
  {
   "cell_type": "code",
   "execution_count": null,
   "metadata": {},
   "outputs": [],
   "source": [
    "did_swap = True\n",
    "\n",
    "while did_swap:\n",
    "    did_swap = False\n",
    "    for i in range(0, len(lt)):\n",
    "        pass"
   ]
  }
 ],
 "metadata": {
  "kernelspec": {
   "display_name": "Python 3",
   "language": "python",
   "name": "python3"
  },
  "language_info": {
   "codemirror_mode": {
    "name": "ipython",
    "version": 3
   },
   "file_extension": ".py",
   "mimetype": "text/x-python",
   "name": "python",
   "nbconvert_exporter": "python",
   "pygments_lexer": "ipython3",
   "version": "3.7.6"
  }
 },
 "nbformat": 4,
 "nbformat_minor": 4
}
