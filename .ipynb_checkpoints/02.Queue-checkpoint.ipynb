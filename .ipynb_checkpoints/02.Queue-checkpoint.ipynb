{
 "cells": [
  {
   "cell_type": "markdown",
   "metadata": {},
   "source": [
    "# โครงสร้างข้อมูลแบบคิว (Queue)"
   ]
  },
  {
   "cell_type": "markdown",
   "metadata": {},
   "source": [
    "คิว คือ โครงสร้างข้อมูลที่ประกอบด้วยสมาชิกที่เรียงติดต่อกันเป็นแถว  เมื่อมีสมาชิกใหม่เข้าไปเสริมในคิวจะต้องเสริมจากทางด้านหลัง (rear) กรณีที่นำสมาชิกออกจากคิวจะต้องนำออกจากด้านหน้า (front)\n",
    "\n",
    "คิวเป็นลิสต์แบบเชิงเส้น เช่นเดียวกับสแตก แต่มีความแตกต่างกันตรงที่คิวมีตัวชี้ 2 ตัว คือ front และ rear สำหรับการใส่ข้อมูลเข้าและนำข้อมูลออก ดังนั้น คิวจึงมีกระบวนการทำงานแบบ First In First Out : FIFO  หรือ First Come First Server : FCFS"
   ]
  },
  {
   "cell_type": "markdown",
   "metadata": {},
   "source": [
    "<img src=\"./imgs/queue01.jpg\" width=460px>"
   ]
  },
  {
   "cell_type": "markdown",
   "metadata": {},
   "source": [
    "## การดำเนินการกับคิว"
   ]
  },
  {
   "cell_type": "markdown",
   "metadata": {},
   "source": [
    "1. **enqueue()** - เพิ่ม (จัดเก็บ) รายการลงในคิว\n",
    "\n",
    "1. **dequeue()** - ลบ (เข้าถึง) รายการจากคิว\n",
    "\n",
    "จำเป็นต้องมีฟังก์ชั่นอีกเล็กน้อยเพื่อให้การดำเนินการคิวดังกล่าวมีประสิทธิภาพ เหล่านี้คือ -\n",
    "\n",
    "1. **isfull()** - ตรวจสอบว่าคิวเต็ม\n",
    "\n",
    "1. **isEmpty()** - ตรวจสอบว่าคิวว่างเปล่า\n",
    "\n",
    "1. **size()** - ตรวจสอบจำนวนสมาชิกภายในคิว"
   ]
  },
  {
   "cell_type": "markdown",
   "metadata": {},
   "source": [
    "<img src=\"./imgs/queue02.jpg\" width=840px>"
   ]
  },
  {
   "cell_type": "markdown",
   "metadata": {},
   "source": [
    "## การสร้างคิวด้วยภาษา Python"
   ]
  },
  {
   "cell_type": "code",
   "execution_count": null,
   "metadata": {},
   "outputs": [],
   "source": [
    "class Queue:\n",
    "    def __init__(self):\n",
    "        self.lt = []\n",
    "        \n",
    "    def enqueue(self, item):\n",
    "        self.lt.insert(0, item)\n",
    "    \n",
    "    def dequeue(self):\n",
    "        return self.lt.pop()\n",
    "    \n",
    "    def isEmpty(self):\n",
    "        return self.lt == []\n",
    "    \n",
    "    def size(self):\n",
    "        return len(self.lt)"
   ]
  },
  {
   "cell_type": "code",
   "execution_count": null,
   "metadata": {},
   "outputs": [],
   "source": [
    "q = Queue()"
   ]
  },
  {
   "cell_type": "code",
   "execution_count": null,
   "metadata": {},
   "outputs": [],
   "source": [
    "q.isEmpty()"
   ]
  },
  {
   "cell_type": "code",
   "execution_count": null,
   "metadata": {},
   "outputs": [],
   "source": [
    "q.enqueue(4)"
   ]
  },
  {
   "cell_type": "code",
   "execution_count": null,
   "metadata": {},
   "outputs": [],
   "source": [
    "q.enqueue(\"dog\")"
   ]
  },
  {
   "cell_type": "code",
   "execution_count": null,
   "metadata": {},
   "outputs": [],
   "source": [
    "q.enqueue(True)"
   ]
  },
  {
   "cell_type": "code",
   "execution_count": null,
   "metadata": {},
   "outputs": [],
   "source": [
    "q.enqueue(8.4)"
   ]
  },
  {
   "cell_type": "code",
   "execution_count": null,
   "metadata": {},
   "outputs": [],
   "source": [
    "q.size()"
   ]
  },
  {
   "cell_type": "code",
   "execution_count": null,
   "metadata": {},
   "outputs": [],
   "source": [
    "q.lt"
   ]
  },
  {
   "cell_type": "code",
   "execution_count": null,
   "metadata": {},
   "outputs": [],
   "source": [
    "q.dequeue()"
   ]
  },
  {
   "cell_type": "code",
   "execution_count": null,
   "metadata": {},
   "outputs": [],
   "source": []
  }
 ],
 "metadata": {
  "kernelspec": {
   "display_name": "Python 3 (ipykernel)",
   "language": "python",
   "name": "python3"
  },
  "language_info": {
   "codemirror_mode": {
    "name": "ipython",
    "version": 3
   },
   "file_extension": ".py",
   "mimetype": "text/x-python",
   "name": "python",
   "nbconvert_exporter": "python",
   "pygments_lexer": "ipython3",
   "version": "3.11.10"
  }
 },
 "nbformat": 4,
 "nbformat_minor": 4
}
