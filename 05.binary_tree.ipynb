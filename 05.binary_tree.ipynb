{
 "cells": [
  {
   "cell_type": "markdown",
   "metadata": {},
   "source": [
    "# โครงสร้างข้อมูลต้นไม้แบบ Binary Tree"
   ]
  },
  {
   "cell_type": "code",
   "execution_count": null,
   "metadata": {},
   "outputs": [],
   "source": [
    "class Node:\n",
    "    \"\"\"\n",
    "    Tree node: left and right child + data which can be any object\n",
    "    \"\"\"\n",
    "    def __init__(self, data):\n",
    "        \"\"\"\n",
    "        Node constructor\n",
    "\n",
    "        @param data node data object\n",
    "        \"\"\"\n",
    "        self.left = None\n",
    "        self.right = None\n",
    "        self.data = data\n",
    "        \n",
    "    def insert(self, data):\n",
    "        \"\"\"\n",
    "        Insert new node with data\n",
    "\n",
    "        @param data node data object to insert\n",
    "        \"\"\"\n",
    "        if self.data:\n",
    "            if data < self.data:\n",
    "                if self.left is None:\n",
    "                    self.left = Node(data)\n",
    "                else:\n",
    "                    self.left.insert(data)\n",
    "            elif data > self.data:\n",
    "                if self.right is None:\n",
    "                    self.right = Node(data)\n",
    "                else:\n",
    "                    self.right.insert(data)\n",
    "        else:\n",
    "            self.data = data\n",
    "            \n",
    "    def lookup(self, data, parent=None):\n",
    "        \"\"\"\n",
    "        Lookup node containing data\n",
    "\n",
    "        @param data node data object to look up\n",
    "        @param parent node's parent\n",
    "        @returns node and node's parent if found or None, None\n",
    "        \"\"\"\n",
    "        if data < self.data:\n",
    "            if self.left is None:\n",
    "                return None, None\n",
    "            return self.left.lookup(data, self)\n",
    "        elif data > self.data:\n",
    "            if self.right is None:\n",
    "                return None, None\n",
    "            return self.right.lookup(data, self)\n",
    "        else:\n",
    "            return self, parent\n",
    "        \n",
    "    def print_tree(self):\n",
    "        \"\"\"\n",
    "        Print tree content inorder\n",
    "        \"\"\"\n",
    "        if self.left:\n",
    "            self.left.print_tree()\n",
    "        print(self.data, end=\", \")\n",
    "        if self.right:\n",
    "            self.right.print_tree()"
   ]
  },
  {
   "cell_type": "markdown",
   "metadata": {},
   "source": [
    "## เมธอดสำหรับท่อง Tree"
   ]
  },
  {
   "cell_type": "code",
   "execution_count": null,
   "metadata": {},
   "outputs": [],
   "source": [
    "def print_tree_indented(tree, level=0):\n",
    "    if tree == None: return\n",
    "    print_tree_indented(tree.right, level+1)\n",
    "    print('  ' * level + str(tree.data))\n",
    "    print_tree_indented(tree.left, level+1)"
   ]
  },
  {
   "cell_type": "code",
   "execution_count": null,
   "metadata": {},
   "outputs": [],
   "source": [
    "def print_tree_postorder(tree):\n",
    "    if tree == None: return\n",
    "    print_tree_postorder(tree.left)\n",
    "    print_tree_postorder(tree.right)\n",
    "    print(tree.data, end=\", \")"
   ]
  },
  {
   "cell_type": "code",
   "execution_count": null,
   "metadata": {},
   "outputs": [],
   "source": [
    "def print_tree_inorder(tree):\n",
    "    if tree == None: return\n",
    "    print_tree_inorder(tree.left)\n",
    "    print(tree.data, end=\", \")\n",
    "    print_tree_inorder(tree.right)"
   ]
  },
  {
   "cell_type": "code",
   "execution_count": null,
   "metadata": {},
   "outputs": [],
   "source": [
    "def print_tree_preorder(tree):\n",
    "    if tree == None: return \n",
    "    print(tree.data, end=\", \")\n",
    "    print_tree_preorder(tree.left)\n",
    "    print_tree_preorder(tree.right)"
   ]
  },
  {
   "cell_type": "markdown",
   "metadata": {},
   "source": [
    "## ตัวอย่างการใช้งาน Binary Tree"
   ]
  },
  {
   "cell_type": "code",
   "execution_count": null,
   "metadata": {},
   "outputs": [],
   "source": [
    "root = Node(8)"
   ]
  },
  {
   "cell_type": "code",
   "execution_count": null,
   "metadata": {},
   "outputs": [],
   "source": [
    "root.insert(3)\n",
    "root.insert(10)\n",
    "root.insert(1)\n",
    "root.insert(6)\n",
    "root.insert(4)\n",
    "root.insert(7)\n",
    "root.insert(14)\n",
    "root.insert(13)\n",
    "root.insert(2)\n",
    "root.insert(5)"
   ]
  },
  {
   "cell_type": "code",
   "execution_count": null,
   "metadata": {},
   "outputs": [],
   "source": [
    "root.print_tree()"
   ]
  },
  {
   "cell_type": "code",
   "execution_count": null,
   "metadata": {
    "scrolled": true
   },
   "outputs": [],
   "source": [
    "print_tree_inorder(root)"
   ]
  },
  {
   "cell_type": "code",
   "execution_count": null,
   "metadata": {},
   "outputs": [],
   "source": [
    "print_tree_postorder(root)"
   ]
  },
  {
   "cell_type": "code",
   "execution_count": null,
   "metadata": {},
   "outputs": [],
   "source": [
    "print_tree_preorder(root)"
   ]
  },
  {
   "cell_type": "markdown",
   "metadata": {},
   "source": [
    "<hr />"
   ]
  },
  {
   "cell_type": "markdown",
   "metadata": {},
   "source": [
    "##  ตัวอย่าง"
   ]
  },
  {
   "cell_type": "code",
   "execution_count": null,
   "metadata": {},
   "outputs": [],
   "source": [
    "import numpy as np\n",
    "\n",
    "lt = np.random.choice(100, 20, replace=False)"
   ]
  },
  {
   "cell_type": "code",
   "execution_count": null,
   "metadata": {},
   "outputs": [],
   "source": [
    "lt"
   ]
  },
  {
   "cell_type": "code",
   "execution_count": null,
   "metadata": {},
   "outputs": [],
   "source": [
    "tree = Node(lt[0])"
   ]
  },
  {
   "cell_type": "code",
   "execution_count": null,
   "metadata": {},
   "outputs": [],
   "source": [
    "for i in range(1, len(lt)):\n",
    "    tree.insert(lt[i])"
   ]
  },
  {
   "cell_type": "code",
   "execution_count": null,
   "metadata": {},
   "outputs": [],
   "source": [
    "print_tree_inorder(tree)"
   ]
  },
  {
   "cell_type": "code",
   "execution_count": null,
   "metadata": {},
   "outputs": [],
   "source": [
    "print_tree_indented(tree)"
   ]
  },
  {
   "cell_type": "code",
   "execution_count": null,
   "metadata": {},
   "outputs": [],
   "source": []
  }
 ],
 "metadata": {
  "kernelspec": {
   "display_name": "Python 3 (ipykernel)",
   "language": "python",
   "name": "python3"
  },
  "language_info": {
   "codemirror_mode": {
    "name": "ipython",
    "version": 3
   },
   "file_extension": ".py",
   "mimetype": "text/x-python",
   "name": "python",
   "nbconvert_exporter": "python",
   "pygments_lexer": "ipython3",
   "version": "3.11.10"
  }
 },
 "nbformat": 4,
 "nbformat_minor": 4
}
