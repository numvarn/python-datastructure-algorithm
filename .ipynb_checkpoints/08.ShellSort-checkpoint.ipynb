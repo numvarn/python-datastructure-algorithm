{
 "cells": [
  {
   "cell_type": "markdown",
   "metadata": {},
   "source": [
    "# Shell Sort"
   ]
  },
  {
   "cell_type": "markdown",
   "metadata": {},
   "source": [
    "การจัดเรียงข้อมูลแบบ Shell Sort เป็นวิธีการที่ช่วยปรับปรุง Insertion Sort ให้มีจำนวนครั้งการสับเปลี่ยนข้อมูลลดลง เนื่องจากวิธีการ Insertion Sort อาจจะเกิด Worst-Case ในกรณีเลวร้าย ที่ค่าตัวเลขเล็กๆ ดันไปอยู่ที่ข้างท้ายๆ ทำให้การสแกนหาตำแหน่งที่เหมาะสม ต้องใช้วิธีนานมาก\n",
    "\n",
    "วิธีการ Shell Sort ปรับปรุงโดยทำการจัดเรียงชุดย่อย โดยแต่ละชุดย่อยเรียกว่า k-sorted โดย k จะเป็นเลขลำดับที่เพิ่มมากขึ้นเรื่อยๆ เช่น k อาจจะเป็นเลข {1, 3, 5} หมายถึง ครั้งแรกที่ทำ 5-sorted จะจัดเรียงตัวเลขทุกตัวที่ห่างกันทีละ 5 ช่อง  เมื่อเรียงเสร็จแล้วจะทำ 3-sorted โดยจัดเรียงตัวเลขทุกตัวที่ห่างกันทีละ 3 ช่อง และสุดท้ายจะทำ 1-sorted โดยจัดเรียงตัวเลขทุกตัวที่ติดกันอยู่ ซึ่งในรอบสุดท้ายที่ 1-sorted จะเป็นวิธีการเดียวกับ Insertion Sort นั่นเอง\n",
    "\n",
    "เราเรียกค่า k = {1, 3, 5} นี้ว่า increment sequence และบางครั้งเรียกวิธีการจัดเรียง Shell Sort นี้ว่า diminishing increment sort\n",
    "\n",
    "ตัวอย่างเช่น ถ้ามีเลขอยู่ 13 ตัวดังนี้ และให้ k = {1, 3, 5}"
   ]
  },
  {
   "cell_type": "markdown",
   "metadata": {},
   "source": [
    "## ขั้นตอนการจัดเรียงข้อมูล SHELL SORT"
   ]
  },
  {
   "cell_type": "markdown",
   "metadata": {},
   "source": [
    "ทำการเลือกค่าข้อมูล Gap ตัวเเรก โดยเราจะใช้ค่าครึ่งหนึ่งของข้อมูล Gap สมมุติ ว่า ข้อมูลมี 10 ตัวครึ่งหนึ่งของข้อมูลก็คือ 5 โดย\n",
    "“สูตร Gap = n/2    ดังนั้น Gap ตัวเเรกคือ 10/2 = 5”  ให้ทำการเรียงข้อมูล Gap ชุดเเรกให้เสร็จสิ้น\n",
    "\n",
    "จากนั้นทำการหาค่าข้อมูล Gap ใหม่ตัวที่ 2 ซึ่งค่า Gap ตัวที่ 2 จะมีค่าครึ่งหนึ่งของค่า Gap ตัวที่ 1 สมมุติว่าค่า Gap 1 = 5 ดังนั้น Gap 2 = 5/2 = 2 (ถ้าทำการหารเเล้วมีเศษ ให้ทำการปัดเศษทิ้งไป) ทำซ้ำแบบนี้ไปเรื่อยๆ จนกว่าข้อมูลเหลือเพียงกลุ่มเดียวหรือ Gap มีค่าเท่ากับ 1"
   ]
  },
  {
   "cell_type": "markdown",
   "metadata": {},
   "source": [
    "<img src=\"./shellsort/001.png\" width=640px>"
   ]
  },
  {
   "cell_type": "markdown",
   "metadata": {},
   "source": [
    "นำเอาขนาดของข้อมูล คือ 10 เเล้วนำมาหารด้วย 2 เเล้วจึงจะได้ค่าของ Gap ออกมานั้นคือ\n",
    "10 / 2 = 5\n",
    "\n",
    "*Gap คือ การระบุค่ามีกลุ่มข้อมูลกี่กลุ่มข้อมูลที่นำมาเปรียบเทียบกัน"
   ]
  },
  {
   "cell_type": "markdown",
   "metadata": {},
   "source": [
    "<img src=\"./shellsort/002.png\" width=640px>"
   ]
  },
  {
   "cell_type": "markdown",
   "metadata": {},
   "source": [
    "นำความ Gap ที่ได้จากขั้นตอนเเรกเเล้วนำมาหารด้วย 2 ต่อ\n",
    "5 / 2 = 2.5 เเต่เราจะไม่ให้มีทศนิยม จึงตัดทศนิยมทิ้งเหลือเเค่ 2"
   ]
  },
  {
   "cell_type": "markdown",
   "metadata": {},
   "source": [
    "<img src=\"./shellsort/003.png\" width=640px>"
   ]
  },
  {
   "cell_type": "markdown",
   "metadata": {},
   "source": [
    "นำการหารไปเลื่อยๆจนกว่าความ Gap นั้นจะเหลือเเค่ 1"
   ]
  },
  {
   "cell_type": "markdown",
   "metadata": {},
   "source": [
    "## ตัวอย่างโปรแกรม Shell sort\n",
    "\n",
    "เป็น Shell Sort ที่ทำงานอยู่บนพื้นฐานของ Bubble Sort"
   ]
  },
  {
   "cell_type": "code",
   "execution_count": 18,
   "metadata": {},
   "outputs": [
    {
     "name": "stdout",
     "output_type": "stream",
     "text": [
      "Input Data : [69 12 71 37 55 58 59 53 18 57] \n",
      "\n",
      "gap : 5, [12 69 37 55 58 71 53 18 57 59]\n",
      "gap : 2, [12 37 69 55 58 18 71 53 57 59]\n",
      "gap : 1, [12 18 37 53 55 57 58 59 69 71]\n",
      "\n",
      "Sorted Data : [12 18 37 53 55 57 58 59 69 71]\n"
     ]
    }
   ],
   "source": [
    "import numpy as np\n",
    "\n",
    "def shellSort(lt):\n",
    "    gap = len(lt) // 2\n",
    "    while gap > 0:\n",
    "        for start in range(0, gap):\n",
    "            gapBubbleSort(lt, start, gap)\n",
    "        \n",
    "        print(\"gap : {}, {}\".format(gap, lt))\n",
    "        gap = gap // 2\n",
    "        \n",
    "def gapBubbleSort(lt, start, gap):\n",
    "    swap = True\n",
    "    while swap:\n",
    "        swap = False\n",
    "        for i in range(start, len(lt)-1, gap):\n",
    "            if lt[i] > lt[i+1]:\n",
    "                lt[i], lt[i+1] = lt[i+1], lt[i]\n",
    "                swap = True\n",
    "\n",
    "# ------------------------------------------------\n",
    "data = np.random.randint(0, 100, size=10)\n",
    "\n",
    "print(\"Input Data : {} \\n\".format(data))\n",
    "shellSort(data)\n",
    "print(\"\\nSorted Data : {}\".format(data))"
   ]
  },
  {
   "cell_type": "code",
   "execution_count": null,
   "metadata": {},
   "outputs": [],
   "source": []
  }
 ],
 "metadata": {
  "kernelspec": {
   "display_name": "Python 3",
   "language": "python",
   "name": "python3"
  },
  "language_info": {
   "codemirror_mode": {
    "name": "ipython",
    "version": 3
   },
   "file_extension": ".py",
   "mimetype": "text/x-python",
   "name": "python",
   "nbconvert_exporter": "python",
   "pygments_lexer": "ipython3",
   "version": "3.6.5"
  }
 },
 "nbformat": 4,
 "nbformat_minor": 2
}
