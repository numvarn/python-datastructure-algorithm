{
 "cells": [
  {
   "cell_type": "markdown",
   "metadata": {},
   "source": [
    "# Quick Sort"
   ]
  },
  {
   "cell_type": "markdown",
   "metadata": {},
   "source": [
    "1. แบ่งข้อมูลออกเป็นข้อมูบชุดทางซ้าย และทางขวา โดยใช้ pivot\n",
    "1. ข้อมูลทางซ้ายมือ คือ ชุดข้อมูลที่น้อยกว่า pivot\n",
    "\tทางขวาคือ ข้อมูลที่มีค่ามากกว่า pivot\n",
    "1. เมื่อข้อมูลทั้งทาง ซ้าย และ ทางขวา มีสมากชิกเหลือแค่ 1 \n",
    "\tนำข้อมูลทางซ้าย และขวา มาผสานกัน โดยมี pivot เป็นจุดกึ่งกลาง"
   ]
  },
  {
   "cell_type": "code",
   "execution_count": 1,
   "metadata": {},
   "outputs": [
    {
     "name": "stdout",
     "output_type": "stream",
     "text": [
      "[19, 24, 30, 30, 38, 38, 90, 90]\n"
     ]
    }
   ],
   "source": [
    "def quickSort(data):\n",
    "    if len(data) == 1 or data == []:\n",
    "        return data\n",
    "    else:\n",
    "        pivot = data[0]\n",
    "        left = [i for i in data if i < pivot]\n",
    "        right = [i for i in data if i > pivot]\n",
    "        equal_pivot = [i for i in data if i == pivot]\n",
    "        \n",
    "        return quickSort(left) + equal_pivot + quickSort(right)\n",
    "    \n",
    "data = [90, 30, 24, 19, 38, 38, 30, 90]\n",
    "result = quickSort(data)\n",
    "print(result)"
   ]
  },
  {
   "cell_type": "markdown",
   "metadata": {},
   "source": [
    "## ตัวอย่างโปรแกรมหาค่า Factorial"
   ]
  },
  {
   "cell_type": "code",
   "execution_count": 2,
   "metadata": {},
   "outputs": [
    {
     "name": "stdout",
     "output_type": "stream",
     "text": [
      "120\n"
     ]
    }
   ],
   "source": [
    "def fac(n):\n",
    "    if n == 1:\n",
    "        return n\n",
    "    else:\n",
    "        return n * fac(n-1)\n",
    "\n",
    "print(fac(5))"
   ]
  },
  {
   "cell_type": "markdown",
   "metadata": {},
   "source": [
    "## ตัวอย่างหาค่ามากสุดต่ำสุดจากชุดข้อมูล"
   ]
  },
  {
   "cell_type": "code",
   "execution_count": 4,
   "metadata": {},
   "outputs": [
    {
     "name": "stdout",
     "output_type": "stream",
     "text": [
      "min  19\n",
      "max  90\n"
     ]
    }
   ],
   "source": [
    "lt = [90, 30, 24, 19, 38]\n",
    "min_val = lt[0]\n",
    "max_val = lt[0]\n",
    "for i in range(1, len(lt)):\n",
    "    if min_val > lt[i]:\n",
    "        min_val = lt[i]\n",
    "    if max_val < lt[i]:\n",
    "        max_val = lt[i]\n",
    "\n",
    "print(\"min \", min_val)\n",
    "print(\"max \", max_val)"
   ]
  },
  {
   "cell_type": "markdown",
   "metadata": {},
   "source": [
    "## ตัวอย่าง"
   ]
  },
  {
   "cell_type": "code",
   "execution_count": 20,
   "metadata": {},
   "outputs": [],
   "source": [
    "lt = [5, 3, 8, 2, 1, 0, 9, 6]"
   ]
  },
  {
   "cell_type": "code",
   "execution_count": 21,
   "metadata": {},
   "outputs": [],
   "source": [
    "pivot = lt[0]"
   ]
  },
  {
   "cell_type": "code",
   "execution_count": 22,
   "metadata": {},
   "outputs": [],
   "source": [
    "left = [x for x in lt if x < pivot]\n",
    "right= [x for x in lt if x > pivot]"
   ]
  },
  {
   "cell_type": "code",
   "execution_count": 23,
   "metadata": {},
   "outputs": [
    {
     "data": {
      "text/plain": [
       "[3, 2, 1, 0]"
      ]
     },
     "execution_count": 23,
     "metadata": {},
     "output_type": "execute_result"
    }
   ],
   "source": [
    "left"
   ]
  },
  {
   "cell_type": "code",
   "execution_count": 24,
   "metadata": {},
   "outputs": [
    {
     "data": {
      "text/plain": [
       "[8, 9, 6]"
      ]
     },
     "execution_count": 24,
     "metadata": {},
     "output_type": "execute_result"
    }
   ],
   "source": [
    "right"
   ]
  },
  {
   "cell_type": "code",
   "execution_count": 25,
   "metadata": {},
   "outputs": [
    {
     "data": {
      "text/plain": [
       "[3, 2, 1, 0, 5, 8, 9, 6]"
      ]
     },
     "execution_count": 25,
     "metadata": {},
     "output_type": "execute_result"
    }
   ],
   "source": [
    "result = left + [pivot] + right\n",
    "result"
   ]
  },
  {
   "cell_type": "code",
   "execution_count": null,
   "metadata": {},
   "outputs": [],
   "source": []
  }
 ],
 "metadata": {
  "kernelspec": {
   "display_name": "Python 3",
   "language": "python",
   "name": "python3"
  },
  "language_info": {
   "codemirror_mode": {
    "name": "ipython",
    "version": 3
   },
   "file_extension": ".py",
   "mimetype": "text/x-python",
   "name": "python",
   "nbconvert_exporter": "python",
   "pygments_lexer": "ipython3",
   "version": "3.7.6"
  }
 },
 "nbformat": 4,
 "nbformat_minor": 2
}
