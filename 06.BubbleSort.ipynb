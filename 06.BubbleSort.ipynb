{
 "cells": [
  {
   "cell_type": "markdown",
   "metadata": {},
   "source": [
    "# การเรียงลำดับแบบฟอง (Bubble Sort)"
   ]
  },
  {
   "cell_type": "markdown",
   "metadata": {},
   "source": [
    "ในสาขาวิทยาการคอมพิวเตอร์ การเรียงลำดับแบบฟอง (อังกฤษ: bubble sort) เป็นขั้นตอนวิธีการเรียงลำดับที่เรียบง่ายมาก \n",
    "\n",
    "ดำเนินการบนโครงสร้างข้อมูลประเภทรายการ ทำงานโดยเปรียบเทียบสมาชิกที่อยู่ติดกัน เมื่อพบตำแหน่งที่ผิด (นั่นคือตัวหน้ามากกว่าตัวหลังในกรณีการเรียงจากน้อยไปมาก) \n",
    "\n",
    "ก็จะทำการสลับข้อมูลกัน และจะดำเนินการซ้ำแบบนี้ไปเรื่อยๆจนกว่าจะไม่มีตำแหน่งที่ผิดอีกซึ่งบ่งบอกว่ารายการนั้นเรียงแล้ว ชื่อของขั้นตอนวิธีนี้มีมาจากสมาชิกที่น้อยที่สุดจะค่อยๆถูกสลับขึ้นมาจนอยู่หน้าสุดของรายการ เปรียบได้กับฟองที่ค่อยๆผุดขึ้นมาถึงผิวน้ำ \n",
    "\n",
    "เนื่องจากขั้นตอนวิธีนี้ใช้เพียงการเปรียบเทียบจึงเป็นการเรียงแบบเปรียบเทียบ นอกจากนี้ยังเป็นการเรียงแบบเสถียรอีกด้วย ถึงแม้ว่าการเรียงลำดับแบบฟองจะเป็นขั้นตอนวิธีที่เรียบง่ายมาก แต่ไม่เหมาะในการเรียงข้อมูลจำนวนมากซึ่งมีวิธีการเรียงข้อมูลที่มีประสิทธิภาพมากกว่า"
   ]
  },
  {
   "cell_type": "markdown",
   "metadata": {},
   "source": [
    "## ประสิทธิภาพ\n",
    "\n",
    "ประสิทธิภาพของการเรียงลำดับแบบฟองขึ้นอยู่กับตำแหน่งของข้อมูลต่าง ๆ ที่อยู่ในรายการ หากมีค่ามากอยู่ตัวแรกๆ การเรียงลำดับแบบฟองจะมีประสิทธิภาพดี เพราะว่าการทำงานเพียงรอบเดียวก็สามารถทำให้ค่ามากไปอยู่ในตำแหน่งที่ใกล้เคียงกับตำแหน่งจริงได้ เช่น มีค่ามากที่สุดอยู่ในตำแหน่งแรก การทำงานรอบเดียวก็เพียงพอที่จะลากค่านั้นไปอยู่ตำแหน่งสุดท้ายได้ แต่กลับกันหากมีค่าน้อยอยู่หลังๆ \n",
    "\n",
    "การทำงานหนึ่งรอบจะสามารถเลื่อนค่านั้นมาด้านหน้าได้เพียงเล็กน้อย เช่นหากค่านั้นเป็นค่าน้อยที่สุดการทำงานหนึ่งรอบจะเลื่อนค่านั้นมาด้านหน้าได้เพียงหนึ่งตำแหน่งเท่านั้น\n",
    "\n",
    "การปรับปรุงประสิทธิภาพของการเรียงลำดับแบบฟองนั้นวิธีการหนึ่งก็คือการทำให้ค่าน้อยที่อยู่หลังๆ นั้นลงมาด้านหน้าได้เร็วขึ้น นั่นคือหลักการของ Cocktail Sort ซึ่งมีขั้นตอนวิธีคล้ายการเรียงลำดับแบบฟองมากเพียงแต่ทำงานทั้งขาไปและขากลับ ขาไปนั้นทำงานเหมือนการเรียงลำดับแบบฟองทุกประการ ส่วนขากลับก็เพียงกลับด้านของการเรียงลำดับแบบฟองนั่นเอง แต่การปรับปรุงดังนี้ก็ไม่ได้ทำให้ประสิทธิภาพในกรณีแย่ที่สุดดีกว่า O(n2) แต่อย่างใด"
   ]
  },
  {
   "cell_type": "markdown",
   "metadata": {},
   "source": [
    "## สิ่งที่ต้องรู้ก่อนเรียนเรื่องการจัดเรียงลำดับ"
   ]
  },
  {
   "cell_type": "markdown",
   "metadata": {},
   "source": [
    "### การสร้างลำดับตัวเลขเชิงสุ่ม"
   ]
  },
  {
   "cell_type": "markdown",
   "metadata": {},
   "source": [
    "เพื่อเป็นการจำลองชุดข้อมูลขึ้นมาเพื่อใช้ทดสอบการเรียงลำดับนั้น เราจะทำการสร้างชุดข้อมูลตัวอย่างโดยการสุ่ม ซึ่งกระบวนการสร้างตัวเลขสุ่มมีดังต่อไปนี้"
   ]
  },
  {
   "cell_type": "markdown",
   "metadata": {},
   "source": [
    "### 1. การสุ่มเลขจำนวนเต็ม"
   ]
  },
  {
   "cell_type": "code",
   "execution_count": 2,
   "metadata": {},
   "outputs": [],
   "source": [
    "import numpy as np"
   ]
  },
  {
   "cell_type": "code",
   "execution_count": 3,
   "metadata": {},
   "outputs": [
    {
     "data": {
      "text/plain": [
       "array([ 3, 12, 18, 10,  3,  1,  5, 18,  1,  7])"
      ]
     },
     "execution_count": 3,
     "metadata": {},
     "output_type": "execute_result"
    }
   ],
   "source": [
    "lt = np.random.randint(1, 20, size=10)\n",
    "lt"
   ]
  },
  {
   "cell_type": "markdown",
   "metadata": {},
   "source": [
    "### 2. การสุ่มเลขจำนวนเต็มแบบไม่ซ้ำ"
   ]
  },
  {
   "cell_type": "code",
   "execution_count": 59,
   "metadata": {},
   "outputs": [
    {
     "data": {
      "text/plain": [
       "array([17, 16,  9,  5,  3, 18,  1, 12, 20,  7])"
      ]
     },
     "execution_count": 59,
     "metadata": {},
     "output_type": "execute_result"
    }
   ],
   "source": [
    "arr = np.random.choice(list(range(1, 21)), size=10, replace=False)\n",
    "arr"
   ]
  },
  {
   "cell_type": "markdown",
   "metadata": {},
   "source": [
    "### 3. การสุ่มเพื่อให้ได้ชุดตัวเลขเดิมทุกครั้ง"
   ]
  },
  {
   "cell_type": "code",
   "execution_count": 17,
   "metadata": {},
   "outputs": [
    {
     "data": {
      "text/plain": [
       "array([10,  5, 16,  1, 18, 17, 18,  9, 10,  1])"
      ]
     },
     "execution_count": 17,
     "metadata": {},
     "output_type": "execute_result"
    }
   ],
   "source": [
    "np.random.seed(10)\n",
    "\n",
    "lt = np.random.randint(1, 20, size=10)\n",
    "lt"
   ]
  },
  {
   "cell_type": "markdown",
   "metadata": {},
   "source": [
    "### ตัวอย่างโปรแกรมเรียงลำดับแบบฟอง (Bubble Sort)\n",
    "\n",
    "กลไกของการเรียงลำดับแบบฟองไปกอบไปด้วย\n",
    "\n",
    "1. การจับคู่เปรียบเที่ยบระหว่างข้อมูลตัวที่ i และ i + 1\n",
    "1. ในแต่ละรอบจะมีการจับคู่เปรียบเทียบทั้งหมด n - 1 ครั้ง\n",
    "1. การสลับลำดับข้อมูล (Swap)\n",
    "1. หากรอบใดไม่มีการ Swap โปรแกรมจะหยุดทำงาน"
   ]
  },
  {
   "cell_type": "markdown",
   "metadata": {},
   "source": [
    "<img src=\"./imgs/bubblepass.png\">"
   ]
  },
  {
   "cell_type": "code",
   "execution_count": 62,
   "metadata": {},
   "outputs": [
    {
     "name": "stdout",
     "output_type": "stream",
     "text": [
      "Before sort : [ 6  9 15  7 12 18 11  2  8 17]\n",
      "After sorted : [ 2  6  7  8  9 11 12 15 17 18]\n"
     ]
    }
   ],
   "source": [
    "import numpy as np\n",
    "\n",
    "def bubbleSort(lt):\n",
    "    swap = True\n",
    "    while swap:\n",
    "        swap = False\n",
    "        for i in range(0, len(lt)-1):\n",
    "            if lt[i] > lt[i+1]:\n",
    "                lt[i], lt[i+1] = lt[i+1], lt[i]\n",
    "                swap = True\n",
    "                \n",
    "\n",
    "arr = np.random.choice(list(range(1, 21)), size=10, replace=False)\n",
    "\n",
    "print(\"Before sort : {}\".format(arr))\n",
    "bubbleSort(arr)\n",
    "print(\"After sorted : {}\".format(arr))\n"
   ]
  },
  {
   "cell_type": "markdown",
   "metadata": {},
   "source": [
    "<hr />"
   ]
  },
  {
   "cell_type": "markdown",
   "metadata": {},
   "source": [
    "# การเรียงลำดับแบบเลือก : The Selection Sort"
   ]
  },
  {
   "cell_type": "markdown",
   "metadata": {},
   "source": [
    "ในสาขาวิทยาการคอมพิวเตอร์ การเรียงลำดับแบบเลือก (อังกฤษ: selection sort) เป็นขั้นตอนวิธีการเรียงลำดับอย่างง่ายโดยใช้วิธีการเปรียบเทียบ ทำงานโดยการหาค่าเหมาะสมที่สุด (ค่ามากสุดหรือน้อยสุด) ที่อยู่ในรายการส่วนที่ยังไม่เรียงและนำค่าเหมาะที่สุดนั้นมาต่อท้ายของส่วนที่เรียงแล้ว ก็จะทำให้ส่วนที่เรียงแล้วมีขนาดใหญ่ขึ้นทีละหนึ่งในแต่ละรอบการทำงาน ทำเช่นนี้จนไม่มีส่วนที่ยังไม่เรียงก็เสร็จ \n",
    "\n",
    "แต่ด้วยประสิทธิภาพเมื่อเกิดกรณีทั่วไปที่ O(n2) ทำให้ไม่เหมาะที่จะใช้ในกรณีที่มีข้อมูลในรายการเป็นจำนวนมาก แต่ถ้าหากปรับปรุงการหาค่าเหมาะสมที่สุดในรายการด้วยแถวคอยลำดับความสำคัญที่ทำให้เกิดผลด้วยโครงสร้างข้อมูลแบบฮีปทวิภาคจะเรียกว่าการเรียงลำดับแบบฮีป ซึ่งมีประสิทธิภาพดีกว่าที่ O(n log n)"
   ]
  },
  {
   "cell_type": "markdown",
   "metadata": {},
   "source": [
    "การเรียงลำดับการเลือกปรับปรุงในการจัดเรียงฟอง โดยทำการแลกเปลี่ยนเพียงครั้งเดียวสำหรับทุก ๆ การส่งผ่านรายการ \n",
    "\n",
    "ในการทำเช่นนี้การเรียงลำดับการเลือกจะค้นหาค่าที่มากที่สุดเมื่อทำการส่งผ่านและหลังจากผ่านการวางแล้วให้วางลงในตำแหน่งที่เหมาะสม เช่นเดียวกับการจัดเรียงฟองหลังจากผ่านครั้งแรกรายการที่ใหญ่ที่สุดอยู่ในสถานที่ที่ถูกต้อง \n",
    "\n",
    "หลังจากผ่านไปครั้งที่สองที่ใหญ่ที่สุดถัดไปอยู่ในสถานที่ กระบวนการนี้ดำเนินต่อไปและต้องการ n − 1"
   ]
  },
  {
   "cell_type": "markdown",
   "metadata": {},
   "source": [
    "<img src=\"./imgs/selectionsortnew.png\">"
   ]
  },
  {
   "cell_type": "markdown",
   "metadata": {},
   "source": [
    "### ตัวอย่างโปรแกรม การเรียงลำดับแบบเลือก"
   ]
  },
  {
   "cell_type": "code",
   "execution_count": 61,
   "metadata": {},
   "outputs": [
    {
     "name": "stdout",
     "output_type": "stream",
     "text": [
      "Before sort : [14 20  5 13 16 15 17  7  4  3]\n",
      "After sorted : [ 3  4  5  7 13 14 15 16 17 20]\n"
     ]
    }
   ],
   "source": [
    "import numpy as np\n",
    "\n",
    "def selectionSort(lt):\n",
    "    for top in range(len(lt)-1 , -1, -1):\n",
    "        max_index = 0\n",
    "        for i in range(1, top+1):\n",
    "            if lt[max_index] <= lt[i]:\n",
    "                max_index = i\n",
    "\n",
    "        #swap\n",
    "        lt[top], lt[max_index] = lt[max_index], lt[top]\n",
    "        \n",
    "arr = np.random.choice(list(range(1, 21)), size=10, replace=False)\n",
    "\n",
    "print(\"Before sort : {}\".format(arr))\n",
    "selectionSort(arr)\n",
    "print(\"After sorted : {}\".format(arr))"
   ]
  },
  {
   "cell_type": "code",
   "execution_count": null,
   "metadata": {},
   "outputs": [],
   "source": []
  }
 ],
 "metadata": {
  "kernelspec": {
   "display_name": "Python 3",
   "language": "python",
   "name": "python3"
  },
  "language_info": {
   "codemirror_mode": {
    "name": "ipython",
    "version": 3
   },
   "file_extension": ".py",
   "mimetype": "text/x-python",
   "name": "python",
   "nbconvert_exporter": "python",
   "pygments_lexer": "ipython3",
   "version": "3.7.6"
  }
 },
 "nbformat": 4,
 "nbformat_minor": 2
}
