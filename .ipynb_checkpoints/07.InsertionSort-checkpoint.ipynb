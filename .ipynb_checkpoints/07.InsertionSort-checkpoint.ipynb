{
 "cells": [
  {
   "cell_type": "markdown",
   "metadata": {},
   "source": [
    "# การจัดเรียงแบบ Insertion Sort"
   ]
  },
  {
   "cell_type": "markdown",
   "metadata": {},
   "source": [
    "มีหลักการจัดเรียงเหมือนกับการเรียงไพ่ในมือ โดยจะรับไพ่มาทีละใบ เมื่อรับไพ่มาแล้วจะหาว่าไพ่ใบนั้นควรจะแทรกลงไปที่ช่องไหนในกองไพ่ที่อยู่ในมือดี สมมุติฐานคือ ไพ่ในมือจะต้องจัดเรียงไว้อยู่แล้ว อาจจะเรียงจากน้อยไปมาก หรือจากมากไปน้อยก็ได้ เมื่อรับไพ่มาจนครบทุกใบ ไพ่ทั้งหมดที่อยู่ในมือจะจัดเรียงกันอย่างถูกต้อง\n",
    "\n",
    "ตัวอย่างเช่นถ้าเรามีอะเรย์ขนาด 5 ช่องที่มีค่าเก็บอยู่ดังนี้"
   ]
  },
  {
   "cell_type": "markdown",
   "metadata": {},
   "source": [
    "<img src=\"./insertion/image001.png\">"
   ]
  },
  {
   "cell_type": "markdown",
   "metadata": {},
   "source": [
    "และถ้าเราต้องการจัดเรียงอะเรย์ a นี้ตามวิธีของ Insertion Sort จะเริ่มต้นโดยกำหนดให้มีตัวแปร i ชี้ไว้ที่ช่องที่เป็นไพ่ใบใหม่ที่รับเข้ามาในมือ\n",
    "โดยเริ่มต้นรอบแรกสุด i = 0 จะมีภาพการทำงานดังนี้"
   ]
  },
  {
   "cell_type": "markdown",
   "metadata": {},
   "source": [
    "<img src=\"./insertion/image002.png\">"
   ]
  },
  {
   "cell_type": "markdown",
   "metadata": {},
   "source": [
    "และรอบต่อมาเมื่อ i = 1 จะมีภาพการทำงานดังนี้"
   ]
  },
  {
   "cell_type": "markdown",
   "metadata": {},
   "source": [
    "<img src=\"./insertion/image003.png\">"
   ]
  },
  {
   "cell_type": "markdown",
   "metadata": {},
   "source": [
    "และรอบต่อมาเมื่อ i = 2 จะมีภาพการทำงานดังนี้"
   ]
  },
  {
   "cell_type": "markdown",
   "metadata": {},
   "source": [
    "<img src=\"./insertion/image004.png\">"
   ]
  },
  {
   "cell_type": "markdown",
   "metadata": {},
   "source": [
    "และรอบต่อมาเมื่อ i = 3 จะมีภาพการทำงานดังนี้"
   ]
  },
  {
   "cell_type": "markdown",
   "metadata": {},
   "source": [
    "<img src=\"./insertion/image005.png\">"
   ]
  },
  {
   "cell_type": "markdown",
   "metadata": {},
   "source": [
    "และรอบสุดท้ายเมื่อ i = 4 จะมีภาพการทำงานดังนี้"
   ]
  },
  {
   "cell_type": "markdown",
   "metadata": {},
   "source": [
    "<img src=\"./insertion/image006.png\">"
   ]
  },
  {
   "cell_type": "markdown",
   "metadata": {},
   "source": [
    "มื่อทำไปเรื่อยๆ จะได้ผลลัพธ์สุดท้ายดังนี้"
   ]
  },
  {
   "cell_type": "markdown",
   "metadata": {},
   "source": [
    "<img src=\"./insertion/image007.png\">"
   ]
  },
  {
   "cell_type": "markdown",
   "metadata": {},
   "source": [
    "## ตัวอย่างการสร้าง Insertion Sort ด้วยภาษา Python"
   ]
  },
  {
   "cell_type": "code",
   "execution_count": 10,
   "metadata": {},
   "outputs": [
    {
     "name": "stdout",
     "output_type": "stream",
     "text": [
      "Bofore :  [ 8 91 61 68 30 91 85 43 94 83]\n",
      "After :  [ 8 30 43 61 68 83 85 91 91 94]\n"
     ]
    }
   ],
   "source": [
    "import numpy as np\n",
    "\n",
    "def insertionSort(lt):\n",
    "    for index in range(1, len(lt)):\n",
    "        temp = lt[index]\n",
    "        position = index\n",
    "        while position > 0 and lt[position - 1] > temp:\n",
    "            lt[position] = lt[position - 1]\n",
    "            position -= 1\n",
    "        lt[position] = temp\n",
    "\n",
    "lt = np.random.choice(list(range(0, 100)), size=10, replace=True)\n",
    "\n",
    "print(\"Bofore : \", lt)\n",
    "insertionSort(lt)\n",
    "print(\"After : \", lt)"
   ]
  },
  {
   "cell_type": "code",
   "execution_count": null,
   "metadata": {},
   "outputs": [],
   "source": []
  }
 ],
 "metadata": {
  "kernelspec": {
   "display_name": "Python 3",
   "language": "python",
   "name": "python3"
  },
  "language_info": {
   "codemirror_mode": {
    "name": "ipython",
    "version": 3
   },
   "file_extension": ".py",
   "mimetype": "text/x-python",
   "name": "python",
   "nbconvert_exporter": "python",
   "pygments_lexer": "ipython3",
   "version": "3.6.5"
  }
 },
 "nbformat": 4,
 "nbformat_minor": 2
}
